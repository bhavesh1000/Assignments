{
 "cells": [
  {
   "cell_type": "code",
   "execution_count": 8,
   "id": "5a26d17d-6b76-4a0a-a783-f99732ecd8e0",
   "metadata": {},
   "outputs": [
    {
     "name": "stdout",
     "output_type": "stream",
     "text": [
      "[1, 3, 5, 7, 9, 11, 13, 15, 17, 19, 21, 23, 25]\n"
     ]
    }
   ],
   "source": [
    "#Q1\n",
    "# def keyword is use to create a function\n",
    "def oddList():\n",
    "    l1 = []\n",
    "    for i in range(26):\n",
    "       \n",
    "        if(i%2!=0):\n",
    "            l1.append(i)\n",
    "            \n",
    "    return l1\n",
    "print(oddList())"
   ]
  },
  {
   "cell_type": "code",
   "execution_count": 11,
   "id": "0d191e89-af61-43db-98f6-63a52b846a4f",
   "metadata": {},
   "outputs": [
    {
     "name": "stdout",
     "output_type": "stream",
     "text": [
      "120\n",
      "first == Geeks\n",
      "mid == for\n",
      "last == Geeks\n"
     ]
    }
   ],
   "source": [
    "#Q2\n",
    "# *args = if no. of arguments in a function are variable\n",
    "# **kwargs = if want to pass variable key value pairs\n",
    "\n",
    "def mul(*args):\n",
    "    mul = 1\n",
    "    for i in args:\n",
    "        mul *= i\n",
    "    print(mul)    \n",
    "mul(1,2,3,4,5)\n",
    "\n",
    "\n",
    "def mul(**args):\n",
    "    mul = 1\n",
    "    for i in args:\n",
    "        mul *= i\n",
    "    print(mul)\n",
    "    \n",
    "    \n",
    "def myFun(**kwargs):\n",
    "\tfor key, value in kwargs.items():\n",
    "\t\tprint(\"%s == %s\" % (key, value))\n",
    "\n",
    "myFun(first='Geeks', mid='for', last='Geeks')\n"
   ]
  },
  {
   "cell_type": "code",
   "execution_count": 13,
   "id": "54624563-c95d-4ee7-952a-dd0e61e29774",
   "metadata": {},
   "outputs": [
    {
     "name": "stdout",
     "output_type": "stream",
     "text": [
      "2\n",
      "4\n",
      "6\n",
      "8\n",
      "10\n"
     ]
    }
   ],
   "source": [
    "#Q3\n",
    "# An iterator is an object that contains a countable number of values.\n",
    "# iter() and next() are used\n",
    "l = [2, 4, 6, 8, 10, 12, 14, 16, 18, 20]\n",
    "l = iter(l)\n",
    "for i in range(5):\n",
    "    print(next(l))"
   ]
  },
  {
   "cell_type": "code",
   "execution_count": 16,
   "id": "94895fb4-e4a4-4c9d-9fd9-70225d3b3fa3",
   "metadata": {},
   "outputs": [
    {
     "name": "stdout",
     "output_type": "stream",
     "text": [
      "1\n",
      "2\n",
      "3\n",
      "4\n",
      "5\n",
      "6\n",
      "7\n",
      "8\n",
      "9\n",
      "10\n"
     ]
    }
   ],
   "source": [
    "#Q4\n",
    "# returns an iterator that produces a sequence of values when iterated over.\n",
    "\n",
    "def nNatural(n):\n",
    "    a = 1\n",
    "    for i in range(n):\n",
    "        yield a\n",
    "        a+=1\n",
    "        \n",
    "for i in nNatural(10):\n",
    "    print(i)"
   ]
  },
  {
   "cell_type": "code",
   "execution_count": 24,
   "id": "829162ca-7e9e-4948-8a4e-91e4a95007eb",
   "metadata": {},
   "outputs": [
    {
     "name": "stdout",
     "output_type": "stream",
     "text": [
      "2\n",
      "3\n",
      "5\n",
      "7\n",
      "11\n",
      "13\n",
      "17\n",
      "19\n",
      "23\n",
      "29\n",
      "31\n",
      "37\n",
      "41\n",
      "43\n",
      "47\n",
      "53\n",
      "59\n",
      "61\n",
      "67\n",
      "71\n"
     ]
    }
   ],
   "source": [
    "#Q5\n",
    "def prime():\n",
    "    a = 2\n",
    "    while True:\n",
    "        flag = 1\n",
    "        for i in range(2,a):\n",
    "            if a%i ==0:\n",
    "                flag = 0\n",
    "                break\n",
    "        if flag == 1:\n",
    "            yield a\n",
    "        a += 1\n",
    "        \n",
    "\n",
    "pri = prime()\n",
    "for i in range(20):\n",
    "    print(next(pri))"
   ]
  },
  {
   "cell_type": "code",
   "execution_count": 31,
   "id": "fe446e14-2bfe-46eb-853b-a55d9d1bbd48",
   "metadata": {},
   "outputs": [
    {
     "name": "stdout",
     "output_type": "stream",
     "text": [
      "0\n",
      "1\n",
      "1\n",
      "2\n",
      "3\n",
      "5\n",
      "8\n",
      "13\n",
      "21\n",
      "34\n"
     ]
    }
   ],
   "source": [
    "#Q6\n",
    "def fibonacci(n):\n",
    "    a , b = 0, 1\n",
    "    i = 0\n",
    "    while i<n:\n",
    "        print(a)\n",
    "        a,b = b , a+b\n",
    "        i+=1\n",
    "        \n",
    "fibonacci(10)"
   ]
  },
  {
   "cell_type": "code",
   "execution_count": 32,
   "id": "dcb39170-51ea-45f5-9a41-5055b884ceef",
   "metadata": {},
   "outputs": [
    {
     "name": "stdout",
     "output_type": "stream",
     "text": [
      "['p', 'w', 's', 'k', 'i', 'l', 'l', 's']\n"
     ]
    }
   ],
   "source": [
    "#Q7\n",
    "string = \"pwskills\"\n",
    "print(list(string))"
   ]
  },
  {
   "cell_type": "code",
   "execution_count": 42,
   "id": "3b5a7526-d1bd-4187-891d-87037622bfea",
   "metadata": {},
   "outputs": [
    {
     "data": {
      "text/plain": [
       "'It is a palindrome'"
      ]
     },
     "execution_count": 42,
     "metadata": {},
     "output_type": "execute_result"
    }
   ],
   "source": [
    "#Q8\n",
    "def palindrome(n):\n",
    "    i = str(n)\n",
    "    j = 0\n",
    "    while j<len(i):\n",
    "        if i[j]!=i[len(i)-j-1]:\n",
    "            return \"Not a palindrome\"\n",
    "        j+=1\n",
    "           \n",
    "    return \"It is a palindrome\"\n",
    "\n",
    "palindrome(2322)\n",
    "palindrome(1234321)"
   ]
  },
  {
   "cell_type": "code",
   "execution_count": null,
   "id": "92dfcd73-b4af-43e9-a9f9-3955b8ae3ca5",
   "metadata": {},
   "outputs": [],
   "source": [
    "#Q9\n",
    "# don't know how to do"
   ]
  }
 ],
 "metadata": {
  "kernelspec": {
   "display_name": "Python 3 (ipykernel)",
   "language": "python",
   "name": "python3"
  },
  "language_info": {
   "codemirror_mode": {
    "name": "ipython",
    "version": 3
   },
   "file_extension": ".py",
   "mimetype": "text/x-python",
   "name": "python",
   "nbconvert_exporter": "python",
   "pygments_lexer": "ipython3",
   "version": "3.10.8"
  }
 },
 "nbformat": 4,
 "nbformat_minor": 5
}
