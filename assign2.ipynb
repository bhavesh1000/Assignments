{
 "cells": [
  {
   "cell_type": "code",
   "execution_count": 1,
   "id": "dbb11153-fb63-43d8-a08e-ec288e2f4662",
   "metadata": {},
   "outputs": [],
   "source": [
    "# Q1 comments are those statements which are ignored by program when executed.Single line comment - # and multiline comment - '''  '''"
   ]
  },
  {
   "cell_type": "code",
   "execution_count": 2,
   "id": "9d0d15f9-edf8-4ce3-822f-9759138cf6e3",
   "metadata": {},
   "outputs": [],
   "source": [
    "# Q2 Variables are containers for storing data.Example\n",
    "a = 6\n",
    "b = \"Bhavesh\"\n",
    "c = True"
   ]
  },
  {
   "cell_type": "code",
   "execution_count": 3,
   "id": "0e3572a3-6ad1-4107-a87d-cebb1b70c5cf",
   "metadata": {},
   "outputs": [
    {
     "name": "stdout",
     "output_type": "stream",
     "text": [
      "<class 'str'>\n",
      "<class 'int'>\n"
     ]
    }
   ],
   "source": [
    "# Q3 By type conversion\n",
    "a = \"6\"\n",
    "b = int(a)\n",
    "print(type(a))\n",
    "print(type(b))\n"
   ]
  },
  {
   "cell_type": "code",
   "execution_count": 4,
   "id": "43cd27e7-5df4-4dd8-ade5-0d29e9f467f3",
   "metadata": {},
   "outputs": [
    {
     "data": {
      "text/plain": [
       "[2, 3]"
      ]
     },
     "execution_count": 4,
     "metadata": {},
     "output_type": "execute_result"
    }
   ],
   "source": [
    "# Q5 \n",
    "list = [1,2,3,4,5]\n",
    "list = list[1:3]\n",
    "list"
   ]
  },
  {
   "cell_type": "code",
   "execution_count": 5,
   "id": "f97dd97b-249c-4a5d-baf2-c8e07d88e0d3",
   "metadata": {},
   "outputs": [],
   "source": [
    "# Q6 numbers which has both real and imag part\n",
    "a = 2+3j"
   ]
  },
  {
   "cell_type": "code",
   "execution_count": 6,
   "id": "2d9d982d-21a4-4007-a584-906d3c8c7ea8",
   "metadata": {},
   "outputs": [],
   "source": [
    "# Q7\n",
    "age = 25"
   ]
  },
  {
   "cell_type": "code",
   "execution_count": 7,
   "id": "22a4b042-f48b-44d3-bda7-917e118a4f8a",
   "metadata": {},
   "outputs": [],
   "source": [
    "# Q8\n",
    "price = 9.99\n",
    "# type = float"
   ]
  },
  {
   "cell_type": "code",
   "execution_count": 8,
   "id": "ba5cc7c1-2dd3-42c5-93fb-a3fce6846033",
   "metadata": {},
   "outputs": [
    {
     "name": "stdout",
     "output_type": "stream",
     "text": [
      "Bhavesh Aswani\n"
     ]
    }
   ],
   "source": [
    "# Q9\n",
    "name = \"Bhavesh Aswani\"\n",
    "print(name)"
   ]
  },
  {
   "cell_type": "code",
   "execution_count": 10,
   "id": "bc7fb44b-e385-45d8-bb11-229db00e4b21",
   "metadata": {},
   "outputs": [
    {
     "name": "stdout",
     "output_type": "stream",
     "text": [
      "World\n"
     ]
    }
   ],
   "source": [
    "# Q10\n",
    "string = \"Hello, World!\"\n",
    "print(string[7:12])"
   ]
  },
  {
   "cell_type": "code",
   "execution_count": 11,
   "id": "a2db8f70-bdf9-41b7-b5b5-bf3615722c9b",
   "metadata": {},
   "outputs": [],
   "source": [
    "# Q11\n",
    "is_student = True"
   ]
  },
  {
   "cell_type": "code",
   "execution_count": null,
   "id": "f549e982-e1c6-478f-a58f-b9cb29472495",
   "metadata": {},
   "outputs": [],
   "source": []
  }
 ],
 "metadata": {
  "kernelspec": {
   "display_name": "Python 3 (ipykernel)",
   "language": "python",
   "name": "python3"
  },
  "language_info": {
   "codemirror_mode": {
    "name": "ipython",
    "version": 3
   },
   "file_extension": ".py",
   "mimetype": "text/x-python",
   "name": "python",
   "nbconvert_exporter": "python",
   "pygments_lexer": "ipython3",
   "version": "3.10.8"
  }
 },
 "nbformat": 4,
 "nbformat_minor": 5
}
